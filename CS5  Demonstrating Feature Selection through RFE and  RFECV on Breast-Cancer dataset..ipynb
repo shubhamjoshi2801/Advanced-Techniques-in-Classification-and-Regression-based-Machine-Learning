{
 "cells": [
  {
   "cell_type": "markdown",
   "metadata": {},
   "source": [
    "#### Objective : \n",
    "\n",
    "Based on 30 physical attributes of a tumor, for a given combination of those attributes we are required to determine whether \n",
    "the tumor is Malignant or Benign. Since the number of attributes invloved is high therefore we will approach the classification objective by extracting the most relevant set of features from the dataset using two techniques, recursive Feature Elimination(RFE) and Cross validation assisted Recursive Feature Elimination(RFECV).\n",
    "\n",
    "Data Source : https://www.kaggle.com/uciml/breast-cancer-wisconsin-data\n",
    "\n",
    "**Input Features :**\n",
    "\n",
    " 1) 'radius_mean' \n",
    " \n",
    " 2) 'texture_mean' \n",
    " \n",
    " 3) 'perimeter_mean'\n",
    " \n",
    " 4) 'area_mean'\n",
    " \n",
    " 5) 'smoothness_mean'\n",
    " \n",
    " 6) 'compactness_mean'\n",
    " \n",
    " 7) 'concavity_mean'\n",
    " \n",
    " 8) 'concave points_mean'\n",
    " \n",
    " 9) 'symmetry_mean'\n",
    " \n",
    " 10) 'fractal_dimension_mean'\n",
    " \n",
    " 11) 'radius_se'\n",
    " \n",
    " 12) 'texture_se'\n",
    " \n",
    " 13) 'perimeter_se'\n",
    " \n",
    " 14) 'area_se'\n",
    " \n",
    " 15) 'smoothness_se'\n",
    " \n",
    " 16) 'compactness_se'\n",
    " \n",
    " 17) 'concavity_se'\n",
    " \n",
    " 18) 'concave points_se'\n",
    " \n",
    " 19) 'symmetry_se'\n",
    " \n",
    " 20) 'fractal_dimension_se'\n",
    " \n",
    " 21) 'radius_worst'\n",
    " \n",
    " 22) 'texture_worst'\n",
    " \n",
    " 23) 'perimeter_worst'\n",
    " \n",
    " 24) 'area_worst'\n",
    " \n",
    " 25) 'smoothness_worst'\n",
    " \n",
    " 26) 'compactness_worst'\n",
    " \n",
    " 27) 'concavity_worst'\n",
    " \n",
    " 28) 'concave points_worst'\n",
    " \n",
    " 29) 'symmetry_worst'\n",
    " \n",
    " 30) 'fractal_dimension_worst'\n",
    " \n",
    "**Target Feature**\n",
    "      \n",
    " 31) Diagnosis (M=Malignant, B=Beningn)"
   ]
  },
  {
   "cell_type": "markdown",
   "metadata": {},
   "source": [
    "#### 1) Recursive Feature Elimination(RFE)  :"
   ]
  },
  {
   "cell_type": "markdown",
   "metadata": {},
   "source": [
    "*Recursive Feature Elimination (RFE)* is a technique that involves either a linear-model (*LogisticRegression, SVC*) or a tree based model(*DecisionTreeClassifier, RandomForestClassifier*) to obtain the most relevant set of features when performing classification or regression. Among one of its arguments, RFE takes *n_features* which is nothing but the number of features that we want to choose from among all the features of the datset. RFE works in the following way, for each iteration  the classification model is trained on all the features of the dataset. Depending upon whether the classifier is based on a tree-model or a linear-model, the features are designated either *weights/coefficients* or *feature-importances*. The feature that corresponds to the worst value is eliminated and the dataset is transformed to accomodate the remaining features. This process is continued until we are left with only *n_features*. "
   ]
  },
  {
   "cell_type": "markdown",
   "metadata": {},
   "source": [
    "#### Demonstrating RFE :"
   ]
  },
  {
   "cell_type": "markdown",
   "metadata": {},
   "source": [
    "#### 1.1) Importing the relevant libraries and Loading the Dataset :"
   ]
  },
  {
   "cell_type": "code",
   "execution_count": 1,
   "metadata": {},
   "outputs": [
    {
     "name": "stdout",
     "output_type": "stream",
     "text": [
      "Populating the interactive namespace from numpy and matplotlib\n"
     ]
    },
    {
     "data": {
      "text/html": [
       "<div>\n",
       "<style scoped>\n",
       "    .dataframe tbody tr th:only-of-type {\n",
       "        vertical-align: middle;\n",
       "    }\n",
       "\n",
       "    .dataframe tbody tr th {\n",
       "        vertical-align: top;\n",
       "    }\n",
       "\n",
       "    .dataframe thead th {\n",
       "        text-align: right;\n",
       "    }\n",
       "</style>\n",
       "<table border=\"1\" class=\"dataframe\">\n",
       "  <thead>\n",
       "    <tr style=\"text-align: right;\">\n",
       "      <th></th>\n",
       "      <th>id</th>\n",
       "      <th>diagnosis</th>\n",
       "      <th>radius_mean</th>\n",
       "      <th>texture_mean</th>\n",
       "      <th>perimeter_mean</th>\n",
       "      <th>area_mean</th>\n",
       "      <th>smoothness_mean</th>\n",
       "      <th>compactness_mean</th>\n",
       "      <th>concavity_mean</th>\n",
       "      <th>concave points_mean</th>\n",
       "      <th>...</th>\n",
       "      <th>texture_worst</th>\n",
       "      <th>perimeter_worst</th>\n",
       "      <th>area_worst</th>\n",
       "      <th>smoothness_worst</th>\n",
       "      <th>compactness_worst</th>\n",
       "      <th>concavity_worst</th>\n",
       "      <th>concave points_worst</th>\n",
       "      <th>symmetry_worst</th>\n",
       "      <th>fractal_dimension_worst</th>\n",
       "      <th>Unnamed: 32</th>\n",
       "    </tr>\n",
       "  </thead>\n",
       "  <tbody>\n",
       "    <tr>\n",
       "      <th>92</th>\n",
       "      <td>861853</td>\n",
       "      <td>B</td>\n",
       "      <td>13.27</td>\n",
       "      <td>14.76</td>\n",
       "      <td>84.74</td>\n",
       "      <td>551.7</td>\n",
       "      <td>0.07355</td>\n",
       "      <td>0.05055</td>\n",
       "      <td>0.03261</td>\n",
       "      <td>0.02648</td>\n",
       "      <td>...</td>\n",
       "      <td>22.35</td>\n",
       "      <td>104.5</td>\n",
       "      <td>830.6</td>\n",
       "      <td>0.10060</td>\n",
       "      <td>0.1238</td>\n",
       "      <td>0.1350</td>\n",
       "      <td>0.10010</td>\n",
       "      <td>0.2027</td>\n",
       "      <td>0.06206</td>\n",
       "      <td>NaN</td>\n",
       "    </tr>\n",
       "    <tr>\n",
       "      <th>2</th>\n",
       "      <td>84300903</td>\n",
       "      <td>M</td>\n",
       "      <td>19.69</td>\n",
       "      <td>21.25</td>\n",
       "      <td>130.00</td>\n",
       "      <td>1203.0</td>\n",
       "      <td>0.10960</td>\n",
       "      <td>0.15990</td>\n",
       "      <td>0.19740</td>\n",
       "      <td>0.12790</td>\n",
       "      <td>...</td>\n",
       "      <td>25.53</td>\n",
       "      <td>152.5</td>\n",
       "      <td>1709.0</td>\n",
       "      <td>0.14440</td>\n",
       "      <td>0.4245</td>\n",
       "      <td>0.4504</td>\n",
       "      <td>0.24300</td>\n",
       "      <td>0.3613</td>\n",
       "      <td>0.08758</td>\n",
       "      <td>NaN</td>\n",
       "    </tr>\n",
       "    <tr>\n",
       "      <th>343</th>\n",
       "      <td>898431</td>\n",
       "      <td>M</td>\n",
       "      <td>19.68</td>\n",
       "      <td>21.68</td>\n",
       "      <td>129.90</td>\n",
       "      <td>1194.0</td>\n",
       "      <td>0.09797</td>\n",
       "      <td>0.13390</td>\n",
       "      <td>0.18630</td>\n",
       "      <td>0.11030</td>\n",
       "      <td>...</td>\n",
       "      <td>34.66</td>\n",
       "      <td>157.6</td>\n",
       "      <td>1540.0</td>\n",
       "      <td>0.12180</td>\n",
       "      <td>0.3458</td>\n",
       "      <td>0.4734</td>\n",
       "      <td>0.22550</td>\n",
       "      <td>0.4045</td>\n",
       "      <td>0.07918</td>\n",
       "      <td>NaN</td>\n",
       "    </tr>\n",
       "    <tr>\n",
       "      <th>375</th>\n",
       "      <td>901303</td>\n",
       "      <td>B</td>\n",
       "      <td>16.17</td>\n",
       "      <td>16.07</td>\n",
       "      <td>106.30</td>\n",
       "      <td>788.5</td>\n",
       "      <td>0.09880</td>\n",
       "      <td>0.14380</td>\n",
       "      <td>0.06651</td>\n",
       "      <td>0.05397</td>\n",
       "      <td>...</td>\n",
       "      <td>19.14</td>\n",
       "      <td>113.1</td>\n",
       "      <td>861.5</td>\n",
       "      <td>0.12350</td>\n",
       "      <td>0.2550</td>\n",
       "      <td>0.2114</td>\n",
       "      <td>0.12510</td>\n",
       "      <td>0.3153</td>\n",
       "      <td>0.08960</td>\n",
       "      <td>NaN</td>\n",
       "    </tr>\n",
       "    <tr>\n",
       "      <th>217</th>\n",
       "      <td>8811779</td>\n",
       "      <td>B</td>\n",
       "      <td>10.20</td>\n",
       "      <td>17.48</td>\n",
       "      <td>65.05</td>\n",
       "      <td>321.2</td>\n",
       "      <td>0.08054</td>\n",
       "      <td>0.05907</td>\n",
       "      <td>0.05774</td>\n",
       "      <td>0.01071</td>\n",
       "      <td>...</td>\n",
       "      <td>24.47</td>\n",
       "      <td>75.4</td>\n",
       "      <td>403.7</td>\n",
       "      <td>0.09527</td>\n",
       "      <td>0.1397</td>\n",
       "      <td>0.1925</td>\n",
       "      <td>0.03571</td>\n",
       "      <td>0.2868</td>\n",
       "      <td>0.07809</td>\n",
       "      <td>NaN</td>\n",
       "    </tr>\n",
       "  </tbody>\n",
       "</table>\n",
       "<p>5 rows × 33 columns</p>\n",
       "</div>"
      ],
      "text/plain": [
       "           id diagnosis  radius_mean  texture_mean  perimeter_mean  area_mean  \\\n",
       "92     861853         B        13.27         14.76           84.74      551.7   \n",
       "2    84300903         M        19.69         21.25          130.00     1203.0   \n",
       "343    898431         M        19.68         21.68          129.90     1194.0   \n",
       "375    901303         B        16.17         16.07          106.30      788.5   \n",
       "217   8811779         B        10.20         17.48           65.05      321.2   \n",
       "\n",
       "     smoothness_mean  compactness_mean  concavity_mean  concave points_mean  \\\n",
       "92           0.07355           0.05055         0.03261              0.02648   \n",
       "2            0.10960           0.15990         0.19740              0.12790   \n",
       "343          0.09797           0.13390         0.18630              0.11030   \n",
       "375          0.09880           0.14380         0.06651              0.05397   \n",
       "217          0.08054           0.05907         0.05774              0.01071   \n",
       "\n",
       "        ...       texture_worst  perimeter_worst  area_worst  \\\n",
       "92      ...               22.35            104.5       830.6   \n",
       "2       ...               25.53            152.5      1709.0   \n",
       "343     ...               34.66            157.6      1540.0   \n",
       "375     ...               19.14            113.1       861.5   \n",
       "217     ...               24.47             75.4       403.7   \n",
       "\n",
       "     smoothness_worst  compactness_worst  concavity_worst  \\\n",
       "92            0.10060             0.1238           0.1350   \n",
       "2             0.14440             0.4245           0.4504   \n",
       "343           0.12180             0.3458           0.4734   \n",
       "375           0.12350             0.2550           0.2114   \n",
       "217           0.09527             0.1397           0.1925   \n",
       "\n",
       "     concave points_worst  symmetry_worst  fractal_dimension_worst  \\\n",
       "92                0.10010          0.2027                  0.06206   \n",
       "2                 0.24300          0.3613                  0.08758   \n",
       "343               0.22550          0.4045                  0.07918   \n",
       "375               0.12510          0.3153                  0.08960   \n",
       "217               0.03571          0.2868                  0.07809   \n",
       "\n",
       "     Unnamed: 32  \n",
       "92           NaN  \n",
       "2            NaN  \n",
       "343          NaN  \n",
       "375          NaN  \n",
       "217          NaN  \n",
       "\n",
       "[5 rows x 33 columns]"
      ]
     },
     "execution_count": 1,
     "metadata": {},
     "output_type": "execute_result"
    }
   ],
   "source": [
    "#importing relevant libraries\n",
    "import pandas as pd\n",
    "import numpy as np\n",
    "import matplotlib.pyplot as plt\n",
    "%pylab inline\n",
    "\n",
    "#loading the dataset\n",
    "breast_cancer=pd.read_csv('cancer_data.csv')\n",
    "breast_cancer=breast_cancer.reindex(np.random.permutation(breast_cancer.index))\n",
    "input_data=breast_cancer.loc[:,'radius_mean':'fractal_dimension_worst']\n",
    "target_data=breast_cancer.loc[:,'diagnosis']\n",
    "input_features=input_data.columns\n",
    "\n",
    "breast_cancer.head()"
   ]
  },
  {
   "cell_type": "markdown",
   "metadata": {},
   "source": [
    "#### 1.2) Data Preprocessing :"
   ]
  },
  {
   "cell_type": "code",
   "execution_count": 2,
   "metadata": {},
   "outputs": [],
   "source": [
    "#Label encoding the target feature :\n",
    "from sklearn.preprocessing import LabelEncoder\n",
    "encoder=LabelEncoder()\n",
    "target_data=encoder.fit_transform(target_data)\n",
    "\n",
    "#splitting the dataset into training and testing sets:\n",
    "from sklearn.model_selection import train_test_split\n",
    "X_train,X_test,Y_train,Y_test=train_test_split(input_data,target_data,test_size=200,random_state=0)\n",
    "\n",
    "#standardizing the training and testing sets:\n",
    "from sklearn.preprocessing import StandardScaler \n",
    "standardizer=StandardScaler()\n",
    "X_train=standardizer.fit_transform(X_train)\n",
    "X_test=standardizer.transform(X_test)\n",
    "X_train=pd.DataFrame(data=X_train,columns=input_features)\n",
    "X_test=pd.DataFrame(data=X_test,columns=input_features)"
   ]
  },
  {
   "cell_type": "markdown",
   "metadata": {},
   "source": [
    "#### 1.3) Applying Logistic Regression classifier on all the features :"
   ]
  },
  {
   "cell_type": "code",
   "execution_count": 3,
   "metadata": {},
   "outputs": [
    {
     "name": "stdout",
     "output_type": "stream",
     "text": [
      "CONFUSION_MATRIX: \n",
      " [[117   1]\n",
      " [  1  81]]\n",
      "ACCURACY: 99.0\n",
      "SPECIFICITY : 99.15254237288136\n",
      "SENSITIVITY : 98.78048780487805\n"
     ]
    }
   ],
   "source": [
    "from sklearn.linear_model import LogisticRegression\n",
    "from sklearn.metrics import confusion_matrix,accuracy_score\n",
    "logreg_clf=LogisticRegression()\n",
    "logreg_clf.fit(X_train,Y_train)\n",
    "Y_pred=logreg_clf.predict(X_test)\n",
    "CM=confusion_matrix(Y_test,Y_pred)\n",
    "print('CONFUSION_MATRIX: \\n',CM)\n",
    "print('ACCURACY:', 100*accuracy_score(Y_test,Y_pred))\n",
    "print('SPECIFICITY :', 100*(CM[0,0]/(CM[0,0]+CM[0,1])))\n",
    "print('SENSITIVITY :', 100*(CM[1,1]/(CM[1,0]+CM[1,1])))"
   ]
  },
  {
   "cell_type": "markdown",
   "metadata": {},
   "source": [
    "#### 1.4) Applying RFE :"
   ]
  },
  {
   "cell_type": "code",
   "execution_count": 4,
   "metadata": {},
   "outputs": [
    {
     "name": "stdout",
     "output_type": "stream",
     "text": [
      "SELECTED ATTRIBUTES: Index(['concave points_mean', 'radius_se', 'fractal_dimension_se',\n",
      "       'radius_worst', 'texture_worst', 'area_worst', 'concavity_worst',\n",
      "       'concave points_worst'],\n",
      "      dtype='object')\n"
     ]
    }
   ],
   "source": [
    "from sklearn.feature_selection import RFE\n",
    "feature_selector=RFE(estimator=LogisticRegression(),n_features_to_select=8)\n",
    "feature_selector.fit(X_train,Y_train)\n",
    "print('SELECTED ATTRIBUTES:',X_train.columns[feature_selector.support_])"
   ]
  },
  {
   "cell_type": "markdown",
   "metadata": {},
   "source": [
    "#### 1.5) Modifying the original training  and testing sets so that only the extracted features are contained in them :\n"
   ]
  },
  {
   "cell_type": "code",
   "execution_count": 5,
   "metadata": {},
   "outputs": [],
   "source": [
    "X_train=X_train[X_train.columns[feature_selector.support_]]\n",
    "X_test=X_test[X_test.columns[feature_selector.support_]]"
   ]
  },
  {
   "cell_type": "markdown",
   "metadata": {},
   "source": [
    "#### 1.6) Training and evaluating the classiier on the modified training set and testing set respectively :"
   ]
  },
  {
   "cell_type": "code",
   "execution_count": 6,
   "metadata": {},
   "outputs": [
    {
     "name": "stdout",
     "output_type": "stream",
     "text": [
      "CONFUSION_MATRIX: \n",
      " [[115   3]\n",
      " [  1  81]]\n",
      "ACCURACY: 98.0\n",
      "SPECIFICITY : 97.45762711864407\n",
      "SENSITIVITY : 98.78048780487805\n"
     ]
    }
   ],
   "source": [
    "logreg_clf.fit(X_train,Y_train)\n",
    "Y_pred=logreg_clf.predict(X_test)\n",
    "CM=confusion_matrix(Y_test,Y_pred)\n",
    "print('CONFUSION_MATRIX: \\n',CM)\n",
    "print('ACCURACY:', 100*accuracy_score(Y_test,Y_pred))\n",
    "print('SPECIFICITY :', 100*(CM[0,0]/(CM[0,0]+CM[0,1])))\n",
    "print('SENSITIVITY :', 100*(CM[1,1]/(CM[1,0]+CM[1,1])))"
   ]
  },
  {
   "cell_type": "markdown",
   "metadata": {},
   "source": [
    "#### 1.7) Conclusion :"
   ]
  },
  {
   "cell_type": "markdown",
   "metadata": {},
   "source": [
    "When 8 most relevant features were chosen from among 30 input features, the accuracy on the modified testing set set using the LogisticRegression classifier's taking into account those 8 features was features was 98%, whereas, the accuracy on the original testing set was 99%."
   ]
  },
  {
   "cell_type": "markdown",
   "metadata": {},
   "source": [
    "#### 2) Cross Validation assisted Recursive Feature Elimination(RFECV) :"
   ]
  },
  {
   "cell_type": "markdown",
   "metadata": {},
   "source": [
    "The *Cross Validation assisted Recursive Feature Elimination(RFECV)* is different from RFE in the sense that, in RFE we were required to specify the number of features we would like to select from among all the features of the dataset, however, RFECV does the opposite. For each validation set, RFE is performed till all the features have been exhausted. For each validation set,we detrmine the *optimal feature count* corresponding to which the accuracy of the classifier was the highest. Now that the *optimal feature count* has been determined for each validation set, among all those *optimal feature counts* RFECV determines the one corresponds to the highest classification score."
   ]
  },
  {
   "cell_type": "markdown",
   "metadata": {},
   "source": [
    "#### Demonstrating Cross Validation assisted Recursive Feature Elimination :"
   ]
  },
  {
   "cell_type": "markdown",
   "metadata": {},
   "source": [
    "#### 2.1) Importing the relevant libraries and Loading the Dataset :"
   ]
  },
  {
   "cell_type": "code",
   "execution_count": 7,
   "metadata": {},
   "outputs": [
    {
     "name": "stdout",
     "output_type": "stream",
     "text": [
      "Populating the interactive namespace from numpy and matplotlib\n"
     ]
    },
    {
     "data": {
      "text/html": [
       "<div>\n",
       "<style scoped>\n",
       "    .dataframe tbody tr th:only-of-type {\n",
       "        vertical-align: middle;\n",
       "    }\n",
       "\n",
       "    .dataframe tbody tr th {\n",
       "        vertical-align: top;\n",
       "    }\n",
       "\n",
       "    .dataframe thead th {\n",
       "        text-align: right;\n",
       "    }\n",
       "</style>\n",
       "<table border=\"1\" class=\"dataframe\">\n",
       "  <thead>\n",
       "    <tr style=\"text-align: right;\">\n",
       "      <th></th>\n",
       "      <th>id</th>\n",
       "      <th>diagnosis</th>\n",
       "      <th>radius_mean</th>\n",
       "      <th>texture_mean</th>\n",
       "      <th>perimeter_mean</th>\n",
       "      <th>area_mean</th>\n",
       "      <th>smoothness_mean</th>\n",
       "      <th>compactness_mean</th>\n",
       "      <th>concavity_mean</th>\n",
       "      <th>concave points_mean</th>\n",
       "      <th>...</th>\n",
       "      <th>texture_worst</th>\n",
       "      <th>perimeter_worst</th>\n",
       "      <th>area_worst</th>\n",
       "      <th>smoothness_worst</th>\n",
       "      <th>compactness_worst</th>\n",
       "      <th>concavity_worst</th>\n",
       "      <th>concave points_worst</th>\n",
       "      <th>symmetry_worst</th>\n",
       "      <th>fractal_dimension_worst</th>\n",
       "      <th>Unnamed: 32</th>\n",
       "    </tr>\n",
       "  </thead>\n",
       "  <tbody>\n",
       "    <tr>\n",
       "      <th>357</th>\n",
       "      <td>901028</td>\n",
       "      <td>B</td>\n",
       "      <td>13.87</td>\n",
       "      <td>16.21</td>\n",
       "      <td>88.52</td>\n",
       "      <td>593.7</td>\n",
       "      <td>0.08743</td>\n",
       "      <td>0.05492</td>\n",
       "      <td>0.01502</td>\n",
       "      <td>0.02088</td>\n",
       "      <td>...</td>\n",
       "      <td>25.58</td>\n",
       "      <td>96.74</td>\n",
       "      <td>694.4</td>\n",
       "      <td>0.11530</td>\n",
       "      <td>0.10080</td>\n",
       "      <td>0.05285</td>\n",
       "      <td>0.05556</td>\n",
       "      <td>0.2362</td>\n",
       "      <td>0.07113</td>\n",
       "      <td>NaN</td>\n",
       "    </tr>\n",
       "    <tr>\n",
       "      <th>192</th>\n",
       "      <td>875099</td>\n",
       "      <td>B</td>\n",
       "      <td>9.72</td>\n",
       "      <td>18.22</td>\n",
       "      <td>60.73</td>\n",
       "      <td>288.1</td>\n",
       "      <td>0.06950</td>\n",
       "      <td>0.02344</td>\n",
       "      <td>0.00000</td>\n",
       "      <td>0.00000</td>\n",
       "      <td>...</td>\n",
       "      <td>20.83</td>\n",
       "      <td>62.25</td>\n",
       "      <td>303.8</td>\n",
       "      <td>0.07117</td>\n",
       "      <td>0.02729</td>\n",
       "      <td>0.00000</td>\n",
       "      <td>0.00000</td>\n",
       "      <td>0.1909</td>\n",
       "      <td>0.06559</td>\n",
       "      <td>NaN</td>\n",
       "    </tr>\n",
       "    <tr>\n",
       "      <th>91</th>\n",
       "      <td>861799</td>\n",
       "      <td>M</td>\n",
       "      <td>15.37</td>\n",
       "      <td>22.76</td>\n",
       "      <td>100.20</td>\n",
       "      <td>728.2</td>\n",
       "      <td>0.09200</td>\n",
       "      <td>0.10360</td>\n",
       "      <td>0.11220</td>\n",
       "      <td>0.07483</td>\n",
       "      <td>...</td>\n",
       "      <td>25.84</td>\n",
       "      <td>107.50</td>\n",
       "      <td>830.9</td>\n",
       "      <td>0.12570</td>\n",
       "      <td>0.19970</td>\n",
       "      <td>0.28460</td>\n",
       "      <td>0.14760</td>\n",
       "      <td>0.2556</td>\n",
       "      <td>0.06828</td>\n",
       "      <td>NaN</td>\n",
       "    </tr>\n",
       "    <tr>\n",
       "      <th>75</th>\n",
       "      <td>8610404</td>\n",
       "      <td>M</td>\n",
       "      <td>16.07</td>\n",
       "      <td>19.65</td>\n",
       "      <td>104.10</td>\n",
       "      <td>817.7</td>\n",
       "      <td>0.09168</td>\n",
       "      <td>0.08424</td>\n",
       "      <td>0.09769</td>\n",
       "      <td>0.06638</td>\n",
       "      <td>...</td>\n",
       "      <td>24.56</td>\n",
       "      <td>128.80</td>\n",
       "      <td>1223.0</td>\n",
       "      <td>0.15000</td>\n",
       "      <td>0.20450</td>\n",
       "      <td>0.28290</td>\n",
       "      <td>0.15200</td>\n",
       "      <td>0.2650</td>\n",
       "      <td>0.06387</td>\n",
       "      <td>NaN</td>\n",
       "    </tr>\n",
       "    <tr>\n",
       "      <th>331</th>\n",
       "      <td>896864</td>\n",
       "      <td>B</td>\n",
       "      <td>12.98</td>\n",
       "      <td>19.35</td>\n",
       "      <td>84.52</td>\n",
       "      <td>514.0</td>\n",
       "      <td>0.09579</td>\n",
       "      <td>0.11250</td>\n",
       "      <td>0.07107</td>\n",
       "      <td>0.02950</td>\n",
       "      <td>...</td>\n",
       "      <td>21.95</td>\n",
       "      <td>99.21</td>\n",
       "      <td>634.3</td>\n",
       "      <td>0.12880</td>\n",
       "      <td>0.32530</td>\n",
       "      <td>0.34390</td>\n",
       "      <td>0.09858</td>\n",
       "      <td>0.3596</td>\n",
       "      <td>0.09166</td>\n",
       "      <td>NaN</td>\n",
       "    </tr>\n",
       "  </tbody>\n",
       "</table>\n",
       "<p>5 rows × 33 columns</p>\n",
       "</div>"
      ],
      "text/plain": [
       "          id diagnosis  radius_mean  texture_mean  perimeter_mean  area_mean  \\\n",
       "357   901028         B        13.87         16.21           88.52      593.7   \n",
       "192   875099         B         9.72         18.22           60.73      288.1   \n",
       "91    861799         M        15.37         22.76          100.20      728.2   \n",
       "75   8610404         M        16.07         19.65          104.10      817.7   \n",
       "331   896864         B        12.98         19.35           84.52      514.0   \n",
       "\n",
       "     smoothness_mean  compactness_mean  concavity_mean  concave points_mean  \\\n",
       "357          0.08743           0.05492         0.01502              0.02088   \n",
       "192          0.06950           0.02344         0.00000              0.00000   \n",
       "91           0.09200           0.10360         0.11220              0.07483   \n",
       "75           0.09168           0.08424         0.09769              0.06638   \n",
       "331          0.09579           0.11250         0.07107              0.02950   \n",
       "\n",
       "        ...       texture_worst  perimeter_worst  area_worst  \\\n",
       "357     ...               25.58            96.74       694.4   \n",
       "192     ...               20.83            62.25       303.8   \n",
       "91      ...               25.84           107.50       830.9   \n",
       "75      ...               24.56           128.80      1223.0   \n",
       "331     ...               21.95            99.21       634.3   \n",
       "\n",
       "     smoothness_worst  compactness_worst  concavity_worst  \\\n",
       "357           0.11530            0.10080          0.05285   \n",
       "192           0.07117            0.02729          0.00000   \n",
       "91            0.12570            0.19970          0.28460   \n",
       "75            0.15000            0.20450          0.28290   \n",
       "331           0.12880            0.32530          0.34390   \n",
       "\n",
       "     concave points_worst  symmetry_worst  fractal_dimension_worst  \\\n",
       "357               0.05556          0.2362                  0.07113   \n",
       "192               0.00000          0.1909                  0.06559   \n",
       "91                0.14760          0.2556                  0.06828   \n",
       "75                0.15200          0.2650                  0.06387   \n",
       "331               0.09858          0.3596                  0.09166   \n",
       "\n",
       "     Unnamed: 32  \n",
       "357          NaN  \n",
       "192          NaN  \n",
       "91           NaN  \n",
       "75           NaN  \n",
       "331          NaN  \n",
       "\n",
       "[5 rows x 33 columns]"
      ]
     },
     "execution_count": 7,
     "metadata": {},
     "output_type": "execute_result"
    }
   ],
   "source": [
    "#importing relevant libraries\n",
    "import pandas as pd\n",
    "import numpy as np\n",
    "import matplotlib.pyplot as plt\n",
    "%pylab inline\n",
    "\n",
    "#loading the dataset\n",
    "breast_cancer=pd.read_csv('cancer_data.csv')\n",
    "breast_cancer=breast_cancer.reindex(np.random.permutation(breast_cancer.index))\n",
    "input_data=breast_cancer.loc[:,'radius_mean':'fractal_dimension_worst']\n",
    "target_data=breast_cancer.loc[:,'diagnosis']\n",
    "input_features=input_data.columns\n",
    "\n",
    "breast_cancer.head()"
   ]
  },
  {
   "cell_type": "markdown",
   "metadata": {},
   "source": [
    "#### 2.2) Data Preprocessing"
   ]
  },
  {
   "cell_type": "code",
   "execution_count": 8,
   "metadata": {},
   "outputs": [],
   "source": [
    "#Label encoding the target feature :\n",
    "from sklearn.preprocessing import LabelEncoder\n",
    "encoder=LabelEncoder()\n",
    "target_data=encoder.fit_transform(target_data)\n",
    "\n",
    "#splitting the dataset into training and testing sets:\n",
    "from sklearn.model_selection import train_test_split\n",
    "X_train,X_test,Y_train,Y_test=train_test_split(input_data,target_data,test_size=200,random_state=0)\n",
    "\n",
    "#standardizing the training and testing sets:\n",
    "from sklearn.preprocessing import StandardScaler \n",
    "standardizer=StandardScaler()\n",
    "X_train=standardizer.fit_transform(X_train)\n",
    "X_test=standardizer.transform(X_test)\n",
    "X_train=pd.DataFrame(data=X_train,columns=input_features)\n",
    "X_test=pd.DataFrame(data=X_test,columns=input_features)"
   ]
  },
  {
   "cell_type": "markdown",
   "metadata": {},
   "source": [
    "#### 3.2) Applying Logistic Regression Classifier:"
   ]
  },
  {
   "cell_type": "code",
   "execution_count": 9,
   "metadata": {},
   "outputs": [
    {
     "name": "stdout",
     "output_type": "stream",
     "text": [
      "CONFUSION_MATRIX: \n",
      " [[134   3]\n",
      " [  4  59]]\n",
      "ACCURACY: 96.5\n",
      "SPECIFICITY : 97.8102189781022\n",
      "SENSITIVITY : 93.65079365079364\n"
     ]
    }
   ],
   "source": [
    "from sklearn.linear_model import LogisticRegression\n",
    "from sklearn.metrics import confusion_matrix,accuracy_score\n",
    "logreg_clf=LogisticRegression()\n",
    "logreg_clf.fit(X_train,Y_train)\n",
    "Y_pred=logreg_clf.predict(X_test)\n",
    "CM=confusion_matrix(Y_test,Y_pred)\n",
    "print('CONFUSION_MATRIX: \\n',CM)\n",
    "print('ACCURACY:', 100*accuracy_score(Y_test,Y_pred))\n",
    "print('SPECIFICITY :', 100*(CM[0,0]/(CM[0,0]+CM[0,1])))\n",
    "print('SENSITIVITY :', 100*(CM[1,1]/(CM[1,0]+CM[1,1])))"
   ]
  },
  {
   "cell_type": "markdown",
   "metadata": {},
   "source": [
    "#### 3.4) Applying RFECV"
   ]
  },
  {
   "cell_type": "code",
   "execution_count": 10,
   "metadata": {},
   "outputs": [
    {
     "name": "stdout",
     "output_type": "stream",
     "text": [
      "OPTIMAL NUMBER OF FEATURES: 12\n",
      "SELECTED ATTRIBUTES: Index(['radius_mean', 'perimeter_mean', 'concave points_mean', 'radius_se',\n",
      "       'area_se', 'fractal_dimension_se', 'radius_worst', 'texture_worst',\n",
      "       'perimeter_worst', 'area_worst', 'smoothness_worst', 'concavity_worst'],\n",
      "      dtype='object')\n"
     ]
    }
   ],
   "source": [
    "from sklearn.feature_selection import RFECV\n",
    "feature_selector=RFECV(estimator=LogisticRegression(),cv=5,scoring='accuracy',step=1)\n",
    "feature_selector.fit(X_train,Y_train)\n",
    "\n",
    "print('OPTIMAL NUMBER OF FEATURES:',feature_selector.n_features_)\n",
    "print('SELECTED ATTRIBUTES:',X_train.columns[feature_selector.support_])\n"
   ]
  },
  {
   "cell_type": "markdown",
   "metadata": {},
   "source": [
    "#### 3.5) Plotting the variation of Cross Validation scores w.r.t number of features selected :"
   ]
  },
  {
   "cell_type": "code",
   "execution_count": 11,
   "metadata": {},
   "outputs": [
    {
     "data": {
      "image/png": "[encoded data removed]",
      "text/plain": [
       "<Figure size 625x500 with 1 Axes>"
      ]
     },
     "metadata": {},
     "output_type": "display_data"
    }
   ],
   "source": [
    "fig,ax=plt.subplots(nrows=1,ncols=1,figsize=(5,4),dpi=125)\n",
    "ax.set_xlabel(\"Number of features selected\")\n",
    "ax.set_ylabel(\"Cross validation score of number of selected features\")\n",
    "ax.plot(range(1, len(feature_selector.grid_scores_) + 1), feature_selector.grid_scores_,color='red',linewidth=0.75)\n",
    "ax.grid()"
   ]
  },
  {
   "cell_type": "markdown",
   "metadata": {},
   "source": [
    "#### 3.6) Modifying the original training  and testing sets so that only the extracted features are contained in them :"
   ]
  },
  {
   "cell_type": "code",
   "execution_count": 12,
   "metadata": {},
   "outputs": [],
   "source": [
    "X_train=X_train[X_train.columns[feature_selector.support_]]\n",
    "X_test=X_test[X_test.columns[feature_selector.support_]]"
   ]
  },
  {
   "cell_type": "markdown",
   "metadata": {},
   "source": [
    "#### 3.7) Training and evaluating the classiier on the modified training set and testing set respectively :"
   ]
  },
  {
   "cell_type": "code",
   "execution_count": 13,
   "metadata": {},
   "outputs": [
    {
     "name": "stdout",
     "output_type": "stream",
     "text": [
      "CONFUSION_MATRIX: \n",
      " [[133   4]\n",
      " [  5  58]]\n",
      "ACCURACY: 95.5\n",
      "SPECIFICITY : 97.08029197080292\n",
      "SENSITIVITY : 92.06349206349206\n"
     ]
    }
   ],
   "source": [
    "logreg_clf.fit(X_train,Y_train)\n",
    "Y_pred=logreg_clf.predict(X_test)\n",
    "CM=confusion_matrix(Y_test,Y_pred)\n",
    "print('CONFUSION_MATRIX: \\n',CM)\n",
    "print('ACCURACY:', 100*accuracy_score(Y_test,Y_pred))\n",
    "print('SPECIFICITY :', 100*(CM[0,0]/(CM[0,0]+CM[0,1])))\n",
    "print('SENSITIVITY :', 100*(CM[1,1]/(CM[1,0]+CM[1,1])))"
   ]
  },
  {
   "cell_type": "markdown",
   "metadata": {},
   "source": [
    "#### 3.8) Conclusion:"
   ]
  },
  {
   "cell_type": "markdown",
   "metadata": {},
   "source": [
    "The application of Cross Validation assisted Recursive Feature Elimination (RFECV) yielded 12 features from among 30 input features of the dataset. The accuracy on the testing set using the LogisticRegression classifier's taking ino account all the input features was 96.5%, whereas, the accuracy on the modified testing set,i.e, the training set containing the selected 12 features was 95.5%."
   ]
  },
  {
   "cell_type": "code",
   "execution_count": null,
   "metadata": {},
   "outputs": [],
   "source": []
  }
 ],
 "metadata": {
  "kernelspec": {
   "display_name": "Python 3",
   "language": "python",
   "name": "python3"
  },
  "language_info": {
   "codemirror_mode": {
    "name": "ipython",
    "version": 3
   },
   "file_extension": ".py",
   "mimetype": "text/x-python",
   "name": "python",
   "nbconvert_exporter": "python",
   "pygments_lexer": "ipython3",
   "version": "3.6.5"
  }
 },
 "nbformat": 4,
 "nbformat_minor": 2
}
