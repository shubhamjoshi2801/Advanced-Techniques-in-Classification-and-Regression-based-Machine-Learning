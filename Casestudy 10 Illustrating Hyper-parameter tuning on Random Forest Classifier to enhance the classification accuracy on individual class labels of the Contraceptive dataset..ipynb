{
 "cells": [
  {
   "cell_type": "markdown",
   "metadata": {},
   "source": [
    "#### Objective : \n",
    "The objective of this case study is to demonstrate how the prediction accuracy of the Random Forest Classifier be enhanced through grid serach assisted Hyperparameter tuning GridSearchCV().\n",
    "\n",
    "#### Data Source : https://archive.ics.uci.edu/ml/machine-learning-databases/cmc/cmc.data\n",
    "\n",
    "#### About the dataset :\n",
    "\n",
    "This dataset is a subset of the 1987 National Indonesia Contraceptive Prevalence Survey. The samples are married women who were either not pregnant or do not know if they were at the time of interview. The problem is to predict the current contraceptive method choice (no use, long-term methods, or short-term methods) of a woman based on her demographic and socio-economic characteristics.\n",
    "\n",
    "#### Input Attributes :\n",
    "1. Wife's age (numerical) \n",
    "2. Wife's education (categorical) 1=low, 2, 3, 4=high \n",
    "3. Husband's education (categorical) 1=low, 2, 3, 4=high \n",
    "4. Number of children ever born (numerical) \n",
    "5. Wife's religion (binary) 0=Non-Islam, 1=Islam \n",
    "6. Wife's now working? (binary) 0=Yes, 1=No \n",
    "7. Husband's occupation (categorical) 1, 2, 3, 4 \n",
    "8. Standard-of-living index (categorical) 1=low, 2, 3, 4=high \n",
    "9. Media exposure (binary) 0=Good, 1=Not good \n",
    "\n",
    "#### Target Attribute :\n",
    "\n",
    "1. Contraceptive method used (class attribute) 1=No-use, 2=Long-term, 3=Short-term"
   ]
  },
  {
   "cell_type": "markdown",
   "metadata": {},
   "source": [
    "#### 1) Importing the relevant libraries :"
   ]
  },
  {
   "cell_type": "code",
   "execution_count": 1,
   "metadata": {},
   "outputs": [],
   "source": [
    "import pandas as pd\n",
    "import numpy as np"
   ]
  },
  {
   "cell_type": "markdown",
   "metadata": {},
   "source": [
    "#### 2) Loading and formatting the dataframe :"
   ]
  },
  {
   "cell_type": "code",
   "execution_count": 2,
   "metadata": {},
   "outputs": [],
   "source": [
    "columns=['wife_age','wife_education','husband_education','children_count','wife_religion','wife_work_status','husband_occupation',\n",
    "     'standard_of_living_ix','media_exposure','contraceptive']\n",
    "contraceptive_data=pd.read_table('https://archive.ics.uci.edu/ml/machine-learning-databases/cmc/cmc.data',sep=',',header=None,names=columns)\n"
   ]
  },
  {
   "cell_type": "code",
   "execution_count": 3,
   "metadata": {},
   "outputs": [
    {
     "data": {
      "text/html": [
       "<div>\n",
       "<style scoped>\n",
       "    .dataframe tbody tr th:only-of-type {\n",
       "        vertical-align: middle;\n",
       "    }\n",
       "\n",
       "    .dataframe tbody tr th {\n",
       "        vertical-align: top;\n",
       "    }\n",
       "\n",
       "    .dataframe thead th {\n",
       "        text-align: right;\n",
       "    }\n",
       "</style>\n",
       "<table border=\"1\" class=\"dataframe\">\n",
       "  <thead>\n",
       "    <tr style=\"text-align: right;\">\n",
       "      <th></th>\n",
       "      <th>wife_age</th>\n",
       "      <th>wife_education</th>\n",
       "      <th>husband_education</th>\n",
       "      <th>children_count</th>\n",
       "      <th>wife_religion</th>\n",
       "      <th>wife_work_status</th>\n",
       "      <th>husband_occupation</th>\n",
       "      <th>standard_of_living_ix</th>\n",
       "      <th>media_exposure</th>\n",
       "      <th>contraceptive</th>\n",
       "    </tr>\n",
       "  </thead>\n",
       "  <tbody>\n",
       "    <tr>\n",
       "      <th>0</th>\n",
       "      <td>24</td>\n",
       "      <td>2</td>\n",
       "      <td>3</td>\n",
       "      <td>3</td>\n",
       "      <td>1</td>\n",
       "      <td>1</td>\n",
       "      <td>2</td>\n",
       "      <td>3</td>\n",
       "      <td>0</td>\n",
       "      <td>1</td>\n",
       "    </tr>\n",
       "    <tr>\n",
       "      <th>1</th>\n",
       "      <td>45</td>\n",
       "      <td>1</td>\n",
       "      <td>3</td>\n",
       "      <td>10</td>\n",
       "      <td>1</td>\n",
       "      <td>1</td>\n",
       "      <td>3</td>\n",
       "      <td>4</td>\n",
       "      <td>0</td>\n",
       "      <td>1</td>\n",
       "    </tr>\n",
       "    <tr>\n",
       "      <th>2</th>\n",
       "      <td>43</td>\n",
       "      <td>2</td>\n",
       "      <td>3</td>\n",
       "      <td>7</td>\n",
       "      <td>1</td>\n",
       "      <td>1</td>\n",
       "      <td>3</td>\n",
       "      <td>4</td>\n",
       "      <td>0</td>\n",
       "      <td>1</td>\n",
       "    </tr>\n",
       "    <tr>\n",
       "      <th>3</th>\n",
       "      <td>42</td>\n",
       "      <td>3</td>\n",
       "      <td>2</td>\n",
       "      <td>9</td>\n",
       "      <td>1</td>\n",
       "      <td>1</td>\n",
       "      <td>3</td>\n",
       "      <td>3</td>\n",
       "      <td>0</td>\n",
       "      <td>1</td>\n",
       "    </tr>\n",
       "    <tr>\n",
       "      <th>4</th>\n",
       "      <td>36</td>\n",
       "      <td>3</td>\n",
       "      <td>3</td>\n",
       "      <td>8</td>\n",
       "      <td>1</td>\n",
       "      <td>1</td>\n",
       "      <td>3</td>\n",
       "      <td>2</td>\n",
       "      <td>0</td>\n",
       "      <td>1</td>\n",
       "    </tr>\n",
       "  </tbody>\n",
       "</table>\n",
       "</div>"
      ],
      "text/plain": [
       "   wife_age  wife_education  husband_education  children_count  wife_religion  \\\n",
       "0        24               2                  3               3              1   \n",
       "1        45               1                  3              10              1   \n",
       "2        43               2                  3               7              1   \n",
       "3        42               3                  2               9              1   \n",
       "4        36               3                  3               8              1   \n",
       "\n",
       "   wife_work_status  husband_occupation  standard_of_living_ix  \\\n",
       "0                 1                   2                      3   \n",
       "1                 1                   3                      4   \n",
       "2                 1                   3                      4   \n",
       "3                 1                   3                      3   \n",
       "4                 1                   3                      2   \n",
       "\n",
       "   media_exposure  contraceptive  \n",
       "0               0              1  \n",
       "1               0              1  \n",
       "2               0              1  \n",
       "3               0              1  \n",
       "4               0              1  "
      ]
     },
     "execution_count": 3,
     "metadata": {},
     "output_type": "execute_result"
    }
   ],
   "source": [
    "contraceptive_data.head()"
   ]
  },
  {
   "cell_type": "code",
   "execution_count": 4,
   "metadata": {},
   "outputs": [
    {
     "name": "stdout",
     "output_type": "stream",
     "text": [
      "<class 'pandas.core.frame.DataFrame'>\n",
      "RangeIndex: 1473 entries, 0 to 1472\n",
      "Data columns (total 10 columns):\n",
      "wife_age                 1473 non-null int64\n",
      "wife_education           1473 non-null int64\n",
      "husband_education        1473 non-null int64\n",
      "children_count           1473 non-null int64\n",
      "wife_religion            1473 non-null int64\n",
      "wife_work_status         1473 non-null int64\n",
      "husband_occupation       1473 non-null int64\n",
      "standard_of_living_ix    1473 non-null int64\n",
      "media_exposure           1473 non-null int64\n",
      "contraceptive            1473 non-null int64\n",
      "dtypes: int64(10)\n",
      "memory usage: 115.2 KB\n"
     ]
    }
   ],
   "source": [
    "contraceptive_data.info()"
   ]
  },
  {
   "cell_type": "markdown",
   "metadata": {},
   "source": [
    "#### 3) Splitting the data into input variables and target variables: \n",
    "   "
   ]
  },
  {
   "cell_type": "code",
   "execution_count": 5,
   "metadata": {},
   "outputs": [],
   "source": [
    "contraceptive_data\n",
    "X=contraceptive_data.loc[:,'wife_age':'media_exposure'].values\n",
    "Y=contraceptive_data.loc[:,'contraceptive'].values"
   ]
  },
  {
   "cell_type": "markdown",
   "metadata": {},
   "source": [
    "#### 4) Splitting the data further into training set and testing set:"
   ]
  },
  {
   "cell_type": "code",
   "execution_count": 6,
   "metadata": {},
   "outputs": [],
   "source": [
    "from sklearn.model_selection import train_test_split\n",
    "X_train,X_test,Y_train,Y_test=train_test_split(X,Y,random_state=45,test_size=200)"
   ]
  },
  {
   "cell_type": "markdown",
   "metadata": {},
   "source": [
    "#### 5) Applying Cross Validation assisted GridSearch to chosse the best-hyper parameters for the Random Forest Classifier:\n",
    "\n",
    "In this stage we tune the parameters of the RandomForestClassifier (RFC) and determine among the combination of parameters fed to the  GridSearchCV object, which combination corresponds to the best performance of RandomForestClassifier on the given dataset. The parameters that we shall combine  are, number of estimators used in the ensemble, criterion, max features to consider, maximum depth of each tree and the minimum samples  at which a leaf should be further split."
   ]
  },
  {
   "cell_type": "code",
   "execution_count": 7,
   "metadata": {},
   "outputs": [
    {
     "name": "stdout",
     "output_type": "stream",
     "text": [
      "Fitting 10 folds for each of 960 candidates, totalling 9600 fits\n"
     ]
    },
    {
     "name": "stderr",
     "output_type": "stream",
     "text": [
      "[Parallel(n_jobs=-1)]: Done  16 tasks      | elapsed:    2.1s\n",
      "[Parallel(n_jobs=-1)]: Done 167 tasks      | elapsed:    3.8s\n",
      "[Parallel(n_jobs=-1)]: Done 487 tasks      | elapsed:    7.4s\n",
      "[Parallel(n_jobs=-1)]: Done 935 tasks      | elapsed:   15.4s\n",
      "[Parallel(n_jobs=-1)]: Done 1511 tasks      | elapsed:   26.4s\n",
      "[Parallel(n_jobs=-1)]: Done 2215 tasks      | elapsed:   39.6s\n",
      "[Parallel(n_jobs=-1)]: Done 3047 tasks      | elapsed:   56.0s\n",
      "[Parallel(n_jobs=-1)]: Done 4007 tasks      | elapsed:  1.2min\n",
      "[Parallel(n_jobs=-1)]: Done 5095 tasks      | elapsed:  1.6min\n",
      "[Parallel(n_jobs=-1)]: Done 6311 tasks      | elapsed:  1.9min\n",
      "[Parallel(n_jobs=-1)]: Done 7655 tasks      | elapsed:  2.4min\n",
      "[Parallel(n_jobs=-1)]: Done 9127 tasks      | elapsed:  2.9min\n",
      "[Parallel(n_jobs=-1)]: Done 9585 out of 9600 | elapsed:  3.0min remaining:    0.2s\n",
      "[Parallel(n_jobs=-1)]: Done 9600 out of 9600 | elapsed:  3.0min finished\n"
     ]
    },
    {
     "data": {
      "text/plain": [
       "GridSearchCV(cv=10, error_score='raise',\n",
       "       estimator=RandomForestClassifier(bootstrap=True, class_weight=None, criterion='gini',\n",
       "            max_depth=None, max_features='auto', max_leaf_nodes=None,\n",
       "            min_impurity_decrease=0.0, min_impurity_split=None,\n",
       "            min_samples_leaf=1, min_samples_split=2,\n",
       "            min_weight_fraction_leaf=0.0, n_estimators=10, n_jobs=1,\n",
       "            oob_score=False, random_state=None, verbose=0,\n",
       "            warm_start=False),\n",
       "       fit_params=None, iid=True, n_jobs=-1,\n",
       "       param_grid={'n_estimators': [25, 30, 35, 40], 'criterion': ['gini', 'entropy'], 'max_features': [6, 7, 8, 9], 'max_depth': [6, 7, 8, 9, 10, 11], 'min_samples_split': [2, 3, 4, 5, 6]},\n",
       "       pre_dispatch='2*n_jobs', refit=True, return_train_score='warn',\n",
       "       scoring='accuracy', verbose=3)"
      ]
     },
     "execution_count": 7,
     "metadata": {},
     "output_type": "execute_result"
    }
   ],
   "source": [
    "from sklearn.ensemble import RandomForestClassifier as RFC\n",
    "from sklearn.model_selection import GridSearchCV \n",
    "hyperparams={'n_estimators':[25,30,35,40],\n",
    "            'criterion':['gini','entropy'],\n",
    "            'max_features':[6,7,8,9],\n",
    "            'max_depth':[6,7,8,9,10,11],\n",
    "            'min_samples_split':[2,3,4,5,6]}\n",
    "grid_search_object=GridSearchCV(estimator=RFC(),param_grid=hyperparams,cv=10,scoring='accuracy',n_jobs=-1,verbose=3)\n",
    "grid_search_object.fit(X_train,Y_train)"
   ]
  },
  {
   "cell_type": "markdown",
   "metadata": {},
   "source": [
    "#### 6) Extracting the most optimal set of hyperparameters :"
   ]
  },
  {
   "cell_type": "code",
   "execution_count": 8,
   "metadata": {},
   "outputs": [
    {
     "data": {
      "text/plain": [
       "{'criterion': 'gini',\n",
       " 'max_depth': 7,\n",
       " 'max_features': 9,\n",
       " 'min_samples_split': 5,\n",
       " 'n_estimators': 25}"
      ]
     },
     "execution_count": 8,
     "metadata": {},
     "output_type": "execute_result"
    }
   ],
   "source": [
    "grid_search_object.best_params_"
   ]
  },
  {
   "cell_type": "markdown",
   "metadata": {},
   "source": [
    "#### 7) Evaluating the performance of Random Forest Classifier with untuned parameters."
   ]
  },
  {
   "cell_type": "code",
   "execution_count": 9,
   "metadata": {},
   "outputs": [
    {
     "name": "stdout",
     "output_type": "stream",
     "text": [
      "Confusion matrix before Hyperparameter_Optimization:\n",
      " [[60 10 16]\n",
      " [ 8 16 17]\n",
      " [23  7 43]]\n",
      "Accuracy for class 0: 69.76744186046511\n",
      "Accuracy for class 1: 39.02439024390244\n",
      "Accuracy for class 2: 58.9041095890411\n"
     ]
    }
   ],
   "source": [
    "from sklearn.metrics import confusion_matrix\n",
    "rfc_clf=RFC()\n",
    "rfc_clf.fit(X_train,Y_train)\n",
    "cm=confusion_matrix(Y_test,rfc_clf.predict(X_test))\n",
    "print('Confusion matrix before Hyperparameter_Optimization:\\n',cm)\n",
    "print('Accuracy for class 0:',100*cm[0,0]/(cm[0,0]+cm[0,1]+cm[0,2]))\n",
    "print('Accuracy for class 1:',100*cm[1,1]/(cm[1,0]+cm[1,1]+cm[1,2]))\n",
    "print('Accuracy for class 2:',100*cm[2,2]/(cm[2,0]+cm[2,1]+cm[2,2]))"
   ]
  },
  {
   "cell_type": "markdown",
   "metadata": {},
   "source": [
    "#### 8) Evaluating the performance of Random Forest Classifier with tuned parameters."
   ]
  },
  {
   "cell_type": "code",
   "execution_count": 11,
   "metadata": {},
   "outputs": [
    {
     "name": "stdout",
     "output_type": "stream",
     "text": [
      "Confusion Matrix after Hyperparameter_Optimization:\n",
      " [[65  4 17]\n",
      " [ 8 16 17]\n",
      " [15  9 49]]\n",
      "Accuracy for class 0: 75.5813953488372\n",
      "Accuracy for class 1: 39.02439024390244\n",
      "Accuracy for class 2: 67.12328767123287\n"
     ]
    }
   ],
   "source": [
    "final_clf=RFC(n_estimators=25,criterion='gini',max_depth=7,max_features=9,min_samples_split=5)\n",
    "final_clf.fit(X_train,Y_train)\n",
    "from sklearn.metrics import confusion_matrix\n",
    "cm=confusion_matrix(Y_test,final_clf.predict(X_test))\n",
    "print('Confusion Matrix after Hyperparameter_Optimization:\\n',cm)\n",
    "print('Accuracy for class 0:',100*cm[0,0]/(cm[0,0]+cm[0,1]+cm[0,2]))\n",
    "print('Accuracy for class 1:',100*cm[1,1]/(cm[1,0]+cm[1,1]+cm[1,2]))\n",
    "print('Accuracy for class 2:',100*cm[2,2]/(cm[2,0]+cm[2,1]+cm[2,2]))"
   ]
  },
  {
   "cell_type": "markdown",
   "metadata": {},
   "source": [
    "From the above results it stands proven that the accuracy on individual class labels is better for the model which has its parameters tuned as opposed to the one which has untuned parameters."
   ]
  },
  {
   "cell_type": "code",
   "execution_count": null,
   "metadata": {},
   "outputs": [],
   "source": []
  }
 ],
 "metadata": {
  "kernelspec": {
   "display_name": "Python 3",
   "language": "python",
   "name": "python3"
  },
  "language_info": {
   "codemirror_mode": {
    "name": "ipython",
    "version": 3
   },
   "file_extension": ".py",
   "mimetype": "text/x-python",
   "name": "python",
   "nbconvert_exporter": "python",
   "pygments_lexer": "ipython3",
   "version": "3.6.5"
  }
 },
 "nbformat": 4,
 "nbformat_minor": 2
}
