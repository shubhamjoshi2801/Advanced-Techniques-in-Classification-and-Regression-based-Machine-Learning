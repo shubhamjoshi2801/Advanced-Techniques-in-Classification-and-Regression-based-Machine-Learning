{
 "cells": [
  {
   "cell_type": "markdown",
   "metadata": {},
   "source": [
    "#### Objective : \n",
    "The objective of this casestudy is to offer a brief introduction to how pandas can be utilized for data analysis. The dataset that we are going to use is called the Major League Baseball (MLB) Salaries dataset.\n",
    "\n",
    "#### Data Source : https://docs.google.com/spreadsheets/d/1mp0Re_FBgIKWBQCDgFN4DocWp324sUYjrIZX6N1WlK0/edit#gid=54876633"
   ]
  },
  {
   "cell_type": "markdown",
   "metadata": {},
   "source": [
    "#### 1) Importing the relevant case studies :"
   ]
  },
  {
   "cell_type": "code",
   "execution_count": 1,
   "metadata": {},
   "outputs": [
    {
     "name": "stdout",
     "output_type": "stream",
     "text": [
      "Populating the interactive namespace from numpy and matplotlib\n"
     ]
    }
   ],
   "source": [
    "import pandas as pd\n",
    "import numpy as np\n",
    "import matplotlib.pyplot as plt\n",
    "%pylab inline"
   ]
  },
  {
   "cell_type": "markdown",
   "metadata": {},
   "source": [
    "#### 2) Loading the Dataset :"
   ]
  },
  {
   "cell_type": "code",
   "execution_count": 2,
   "metadata": {
    "scrolled": true
   },
   "outputs": [
    {
     "data": {
      "text/html": [
       "<div>\n",
       "<style scoped>\n",
       "    .dataframe tbody tr th:only-of-type {\n",
       "        vertical-align: middle;\n",
       "    }\n",
       "\n",
       "    .dataframe tbody tr th {\n",
       "        vertical-align: top;\n",
       "    }\n",
       "\n",
       "    .dataframe thead th {\n",
       "        text-align: right;\n",
       "    }\n",
       "</style>\n",
       "<table border=\"1\" class=\"dataframe\">\n",
       "  <thead>\n",
       "    <tr style=\"text-align: right;\">\n",
       "      <th></th>\n",
       "      <th>Year</th>\n",
       "      <th>Player</th>\n",
       "      <th>Salary</th>\n",
       "      <th>Position</th>\n",
       "      <th>Team</th>\n",
       "    </tr>\n",
       "  </thead>\n",
       "  <tbody>\n",
       "    <tr>\n",
       "      <th>0</th>\n",
       "      <td>1988</td>\n",
       "      <td>Mike Witt</td>\n",
       "      <td>1400000</td>\n",
       "      <td>Pitcher</td>\n",
       "      <td>Los Angeles Angels</td>\n",
       "    </tr>\n",
       "    <tr>\n",
       "      <th>1</th>\n",
       "      <td>1988</td>\n",
       "      <td>George Hendrick</td>\n",
       "      <td>989333</td>\n",
       "      <td>Outfielder</td>\n",
       "      <td>Los Angeles Angels</td>\n",
       "    </tr>\n",
       "    <tr>\n",
       "      <th>2</th>\n",
       "      <td>1988</td>\n",
       "      <td>Chili Davis</td>\n",
       "      <td>950000</td>\n",
       "      <td>Outfielder</td>\n",
       "      <td>Los Angeles Angels</td>\n",
       "    </tr>\n",
       "    <tr>\n",
       "      <th>3</th>\n",
       "      <td>1988</td>\n",
       "      <td>Brian Downing</td>\n",
       "      <td>900000</td>\n",
       "      <td>Designated Hitter</td>\n",
       "      <td>Los Angeles Angels</td>\n",
       "    </tr>\n",
       "    <tr>\n",
       "      <th>4</th>\n",
       "      <td>1988</td>\n",
       "      <td>Bob Boone</td>\n",
       "      <td>883000</td>\n",
       "      <td>Catcher</td>\n",
       "      <td>Los Angeles Angels</td>\n",
       "    </tr>\n",
       "  </tbody>\n",
       "</table>\n",
       "</div>"
      ],
      "text/plain": [
       "   Year           Player   Salary           Position                Team\n",
       "0  1988        Mike Witt  1400000            Pitcher  Los Angeles Angels\n",
       "1  1988  George Hendrick   989333         Outfielder  Los Angeles Angels\n",
       "2  1988      Chili Davis   950000         Outfielder  Los Angeles Angels\n",
       "3  1988    Brian Downing   900000  Designated Hitter  Los Angeles Angels\n",
       "4  1988        Bob Boone   883000            Catcher  Los Angeles Angels"
      ]
     },
     "execution_count": 2,
     "metadata": {},
     "output_type": "execute_result"
    }
   ],
   "source": [
    "#loading the dataset\n",
    "mlb_salaries=pd.read_csv('mlbsalaries.csv')\n",
    "mlb_salaries.head()"
   ]
  },
  {
   "cell_type": "markdown",
   "metadata": {},
   "source": [
    "#### 3) For each year, for each team, for each position, display  a dataframe containing the highest paid players  :"
   ]
  },
  {
   "cell_type": "code",
   "execution_count": null,
   "metadata": {},
   "outputs": [],
   "source": [
    "dataframe_highest=pd.DataFrame()\n",
    "grouped_year=mlb_salaries.groupby('Year')\n",
    "for year,year_df in grouped_year:\n",
    "    grouped_position=year_df.groupby('Position')\n",
    "    for position,position_df in grouped_position:\n",
    "        grouped_team=position_df.groupby('Team')\n",
    "        for team,df_team in grouped_team:\n",
    "            top_salaries=df_team.sort_values(ascending=False,by=['Salary']).iloc[0,:]\n",
    "            dataframe_highest=dataframe_highest.append(top_salaries)\n",
    "dataframe_highest.head()"
   ]
  },
  {
   "cell_type": "markdown",
   "metadata": {},
   "source": [
    "#### 3.1) On Basis of the above dataframe find the highest played catchers for Los Angeles Angels for each year and plot their salaries :"
   ]
  },
  {
   "cell_type": "code",
   "execution_count": null,
   "metadata": {},
   "outputs": [],
   "source": [
    "#extracting the highest paid catchers of Los Angeles Angels :\n",
    "df_catcher=dataframe_highest[(dataframe_highest['Position']=='Catcher')&(dataframe_highest['Team']=='Los Angeles Angels')]\n",
    "df_catcher.head()"
   ]
  },
  {
   "cell_type": "code",
   "execution_count": null,
   "metadata": {},
   "outputs": [],
   "source": [
    "#plotting the variation of salaries :\n",
    "fig,ax=plt.subplots(nrows=1,ncols=1,figsize=(6,4.5),dpi=100)\n",
    "ax.plot(df_catcher['Year'],df_catcher['Salary'],color='red')\n",
    "ax.scatter(df_catcher['Year'],df_catcher['Salary'],color='blue')\n",
    "ax.bar(df_catcher['Year'],df_catcher['Salary'],color='red',alpha=0.25)\n",
    "ax.set_xlabel('Year')\n",
    "ax.set_ylabel('Salary')\n",
    "ax.set_title('Variation of Highest Salary with Year')"
   ]
  },
  {
   "cell_type": "markdown",
   "metadata": {},
   "source": [
    "#### 4) From the given dataframe extract a dataframe containing the maximum salary paid to pitchers for the year 2010 by each team:"
   ]
  },
  {
   "cell_type": "code",
   "execution_count": null,
   "metadata": {},
   "outputs": [],
   "source": [
    "top_pitcher_salaries_2010=pd.DataFrame()\n",
    "yr2010=mlb_salaries[(mlb_salaries['Year']==2010) & (mlb_salaries['Position']=='Pitcher')]\n",
    "team_2010_grouped=yr2010.groupby('Team')\n",
    "for team,df_team in team_2010_grouped:\n",
    "    top_salaries=df_team.sort_values(by='Salary',ascending='False').iloc[0,:]\n",
    "    top_pitcher_salaries_2010=top_pitcher_salaries_2010.append(top_salaries)\n",
    "top_pitcher_salaries_2010.head(10)"
   ]
  },
  {
   "cell_type": "markdown",
   "metadata": {},
   "source": [
    "#### 5) Plot the variation of average salaries paid to Outfielders from the first year (1988) to the last year (2011) :"
   ]
  },
  {
   "cell_type": "code",
   "execution_count": null,
   "metadata": {},
   "outputs": [],
   "source": [
    "pitcher_salaries=[]\n",
    "Year=[]\n",
    "average_df=mlb_salaries[mlb_salaries['Position']=='Outfielder']\n",
    "grouped_year=average_df.groupby('Year')\n",
    "for year_count,df_year in grouped_year:\n",
    "    Year.append(year_count)\n",
    "    pitcher_salaries.append(df_year['Salary'].mean())\n",
    "    \n",
    "#plotting the curve    \n",
    "fig,ax=plt.subplots(nrows=1,ncols=1,figsize=(6,4.5),dpi=100)\n",
    "ax.scatter(Year,pitcher_salaries,color='red')\n",
    "ax.plot(Year,pitcher_salaries,color='blue')\n",
    "ax.bar(Year,pitcher_salaries,color='black',alpha=0.25)\n",
    "ax.set_xlabel('Year')\n",
    "ax.set_ylabel('Avg.Salary')\n",
    "ax.set_title('Variation of Avg.Salary with Year')"
   ]
  },
  {
   "cell_type": "markdown",
   "metadata": {},
   "source": [
    "#### 6) Plotting the annual variation of total  salaries of Pitchers  by Texas Rangers, Los Angeles Angels, Los Angeles Dodgers, Washington Nationals and New York Yankees :"
   ]
  },
  {
   "cell_type": "code",
   "execution_count": null,
   "metadata": {},
   "outputs": [],
   "source": [
    "\n",
    "#code for depicting the variation of total salary of pitchers across the mentioned teams\n",
    "team_list=['Texas Rangers','New York Yankees','Los Angeles Angels','Los Angeles Dodgers','Washington Nationals']\n",
    "mlb_teams=mlb_salaries[mlb_salaries['Team'].isin(team_list)]\n",
    "mlb_teams['Team'].value_counts()\n",
    "salaries=[]\n",
    "years=[]\n",
    "teams=[]\n",
    "grouped_team=mlb_teams.groupby('Team')\n",
    "for team,df_team in grouped_team:\n",
    "    total_salary=[]\n",
    "    year_count=[]\n",
    "    grouped_year=df_team.groupby('Year')\n",
    "    for year,df_year in grouped_year:\n",
    "        total_salary.append(df_year['Salary'].sum())\n",
    "        year_count.append(year)\n",
    "    salaries.append(total_salary)\n",
    "    years.append(year_count)\n",
    "    teams.append(team)\n",
    "colors=['blue','green','red','magenta','black']\n",
    "fig,ax=plt.subplots(nrows=1,ncols=2,figsize=(15,4.5),dpi=150)\n",
    "for count in range(5):\n",
    "    ax[0].plot(years[count],salaries[count],label=teams[count],color=colors[count],alpha=1)\n",
    "    ax[0].scatter(years[count],salaries[count],color=colors[count],alpha=0.25)\n",
    "    ax[0].grid()\n",
    "    ax[0].legend()\n",
    "    ax[0].set_xlabel('Years')\n",
    "    ax[0].set_ylabel('Total Salary')\n",
    "    ax[0].set_title('Variation of Total Pitcher salary with time')\n",
    "    \n",
    "#code for depicting the variation of average salary of pitchers across the mentioned teams\n",
    "team_list=['Texas Rangers','New York Yankees','Los Angeles Angels','Los Angeles Dodgers','Washington Nationals']\n",
    "mlb_teams=mlb_salaries[mlb_salaries['Team'].isin(team_list)]\n",
    "mlb_teams['Team'].value_counts()\n",
    "salaries1=[]\n",
    "years1=[]\n",
    "teams1=[]\n",
    "grouped_team=mlb_teams.groupby('Team')\n",
    "for team,df_team in grouped_team:\n",
    "    avg_salary=[]\n",
    "    year_count=[]\n",
    "    grouped_year=df_team.groupby('Year')\n",
    "    for year,df_year in grouped_year:\n",
    "        avg_salary.append(df_year['Salary'].mean())\n",
    "        year_count.append(year)\n",
    "    salaries1.append(avg_salary)\n",
    "    years1.append(year_count)\n",
    "    teams1.append(team)\n",
    "colors=['blue','green','red','magenta','black']\n",
    "for count in range(5):\n",
    "    ax[1].plot(years1[count],salaries1[count],label=teams1[count],color=colors[count],alpha=1)\n",
    "    ax[1].scatter(years1[count],salaries1[count],color=colors[count],alpha=0.25)\n",
    "    ax[1].grid()\n",
    "    ax[1].legend()\n",
    "    ax[1].set_xlabel('Years')\n",
    "    ax[1].set_ylabel('Avergae-Salary')\n",
    "    ax[1].set_title('Variation of average pitcher salary with time')"
   ]
  },
  {
   "cell_type": "markdown",
   "metadata": {},
   "source": [
    "#### 7) Plotting the anual variation of avergae salaries of Pitcher, Catcher and Outfielder paid by New York Yankees :"
   ]
  },
  {
   "cell_type": "code",
   "execution_count": null,
   "metadata": {},
   "outputs": [],
   "source": [
    "mlb_team=mlb_salaries[mlb_salaries['Team']=='New York Yankees']\n",
    "position_list=['Pitcher','Outfielder','Catcher']\n",
    "mlb_team=mlb_team[mlb_team['Position'].isin(position_list)]\n",
    "\n",
    "grouped_position=mlb_team.groupby('Position')\n",
    "annual_count=[]\n",
    "average_salary=[]\n",
    "positions=[]\n",
    "for position,df_position in grouped_position:\n",
    "    year_count=[]\n",
    "    avg_salary=[]\n",
    "    grouped_year=df_position.groupby('Year')\n",
    "    for year,df_year in grouped_year:\n",
    "        year_count.append(year)\n",
    "        avg_salary.append(df_year['Salary'].mean())\n",
    "    annual_count.append(year_count)\n",
    "    average_salary.append(avg_salary)\n",
    "    positions.append(position)\n",
    "colors=['blue','red','green']\n",
    "fig,ax=plt.subplots(nrows=1,ncols=1,figsize=(6,4.5),dpi=100)\n",
    "for count in range(3):\n",
    "    ax.plot(annual_count[count],average_salary[count],label=positions[count],color=colors[count],alpha=1)\n",
    "    ax.scatter(annual_count[count],average_salary[count],color=colors[count],alpha=0.25)\n",
    "    ax.grid()\n",
    "    ax.legend()\n",
    "    ax.set_xlabel('Years')\n",
    "    ax.set_ylabel('Average-Salary')\n",
    "    ax.set_title('Variation of average-salary with time')"
   ]
  },
  {
   "cell_type": "markdown",
   "metadata": {},
   "source": [
    "#### 8) Expressing pitcher and outfielder salaries as proportion of total salaries paid by Los Angeles Angels for each year :"
   ]
  },
  {
   "cell_type": "code",
   "execution_count": null,
   "metadata": {},
   "outputs": [],
   "source": [
    "mlb_team1=mlb_salaries[mlb_salaries['Team']=='Los Angeles Angels']\n",
    "grouped_year1=mlb_team1.groupby('Year')\n",
    "total_salary=[]\n",
    "annual_count=[]\n",
    "pitcher_salary=[]\n",
    "for year1,df_year1 in grouped_year1:\n",
    "    total_salary.append(df_year1['Salary'].sum())\n",
    "    annual_count.append(year1)\n",
    "    \n",
    "#for pitcher salaries:    \n",
    "mlb_position1=mlb_team1[mlb_team1['Position']=='Pitcher']\n",
    "pitcher_salary=[]\n",
    "grouped_year2=mlb_position1.groupby('Year')\n",
    "for year2,df_year2 in grouped_year2:\n",
    "    pitcher_salary.append(df_year2['Salary'].sum())\n",
    "\n",
    "#for outfielder salaries:\n",
    "mlb_team2=mlb_salaries[mlb_salaries['Team']=='Los Angeles Angels']\n",
    "outfielder_salary=[]\n",
    "mlb_position2=mlb_team2[mlb_team2['Position']=='Outfielder']\n",
    "grouped_year3=mlb_position2.groupby('Year')\n",
    "for year3,df_year3 in grouped_year3:\n",
    "    outfielder_salary.append(df_year3['Salary'].sum())\n",
    "    \n",
    "#creating a new dataframe:\n",
    "new_df=pd.DataFrame(data={'Year':annual_count,'total_sal':total_salary,'pitcher_sal':pitcher_salary,'outfielder_sal':outfielder_salary})\n",
    "new_df['outfielder_sal_proportion']=new_df['outfielder_sal']/new_df['total_sal']\n",
    "new_df['pitcher_sal_proportion']=new_df['pitcher_sal']/new_df['total_sal']\n",
    "\n",
    "#dropping the redundant columns:\n",
    "new_df=new_df.drop(labels=['outfielder_sal','pitcher_sal','total_sal'],axis=1)\n",
    "\n",
    "#plotting the curves of pitcher and outfielder salaries as proportions of total salaries wrt time:\n",
    "\n",
    "fig,ax=plt.subplots(nrows=1,ncols=1,figsize=(10,4.5),dpi=120)\n",
    "\n",
    "ax.plot(new_df['Year'],new_df['outfielder_sal_proportion'],label='outfielder_sal_proportion',color='red')\n",
    "ax.plot(new_df['Year'],new_df['pitcher_sal_proportion'],label='pitcher_sal_proportion',color='blue')\n",
    "ax.legend()\n",
    "\n",
    "ax.scatter(new_df['Year'],new_df['outfielder_sal_proportion'],color='red',alpha=0.25)\n",
    "ax.scatter(new_df['Year'],new_df['pitcher_sal_proportion'],color='blue',alpha=0.25)\n",
    "\n",
    "ax.grid()\n",
    "ax.set_xlabel('Years')\n",
    "ax.set_ylabel('Proportions')\n",
    "ax.set_title('Variation of salaries of pitchers and outfielders as proportion of total annual salaries')"
   ]
  }
 ],
 "metadata": {
  "kernelspec": {
   "display_name": "Python 3",
   "language": "python",
   "name": "python3"
  },
  "language_info": {
   "codemirror_mode": {
    "name": "ipython",
    "version": 3
   },
   "file_extension": ".py",
   "mimetype": "text/x-python",
   "name": "python",
   "nbconvert_exporter": "python",
   "pygments_lexer": "ipython3",
   "version": "3.6.5"
  }
 },
 "nbformat": 4,
 "nbformat_minor": 2
}
